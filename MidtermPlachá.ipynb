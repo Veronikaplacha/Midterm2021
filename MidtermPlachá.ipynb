{
 "cells": [
  {
   "cell_type": "code",
   "execution_count": 1,
   "id": "e3d187a7",
   "metadata": {},
   "outputs": [],
   "source": [
    "import requests\n",
    "from bs4 import BeautifulSoup\n",
    "import pandas as pd\n",
    "from time import sleep\n",
    "from tqdm import tqdm\n",
    "import re\n",
    "import json\n",
    "import time"
   ]
  },
  {
   "cell_type": "markdown",
   "id": "0dd62bc2",
   "metadata": {},
   "source": [
    "Part 1 - API requests - 15 points \n",
    "In this part, you are expected to obtain a dataset from an API. There might be some obstacles. \n",
    "You need to complete the dataset and use it in part 2. If you do not manage it, you can obtain \n",
    "the dataset anyway, but you forfeit the points for this part. You might obtain some partial \n",
    "points if you do not complete the section. \n",
    "API address: https://ies-midterm.soulution.rocks/\n",
    "• if you receive an error, read the message! you might obtain an informative message\n",
    "• if you see {\"message\":\"Missing Authentication Token\"}, then you are using a wrong \n",
    "request method on the endpoint. i.e. /login needs a POST, if you send a GET, you will \n",
    "see this."
   ]
  },
  {
   "cell_type": "code",
   "execution_count": 2,
   "id": "7b0af837",
   "metadata": {},
   "outputs": [],
   "source": [
    "payload = '{\"cuni\":\"85675870\"}'\n",
    "r = requests.post('https://ies-midterm.soulution.rocks',payload)"
   ]
  },
  {
   "cell_type": "code",
   "execution_count": 3,
   "id": "fa41991c",
   "metadata": {},
   "outputs": [
    {
     "data": {
      "text/plain": [
       "<Response [403]>"
      ]
     },
     "execution_count": 3,
     "metadata": {},
     "output_type": "execute_result"
    }
   ],
   "source": [
    "r"
   ]
  },
  {
   "cell_type": "code",
   "execution_count": 4,
   "id": "eb980225",
   "metadata": {},
   "outputs": [],
   "source": [
    "payload = '{\"cuni\":\"85675870\"}'\n",
    "r = requests.post('https://ies-midterm.soulution.rocks/login',payload)"
   ]
  },
  {
   "cell_type": "code",
   "execution_count": 5,
   "id": "43bcfcd5",
   "metadata": {},
   "outputs": [
    {
     "data": {
      "text/plain": [
       "<Response [200]>"
      ]
     },
     "execution_count": 5,
     "metadata": {},
     "output_type": "execute_result"
    }
   ],
   "source": [
    "r"
   ]
  },
  {
   "cell_type": "code",
   "execution_count": 6,
   "id": "0ff5b032",
   "metadata": {},
   "outputs": [],
   "source": [
    "d = json.loads(r.text)"
   ]
  },
  {
   "cell_type": "code",
   "execution_count": 7,
   "id": "01aaccf5",
   "metadata": {},
   "outputs": [
    {
     "data": {
      "text/plain": [
       "'c24c4769'"
      ]
     },
     "execution_count": 7,
     "metadata": {},
     "output_type": "execute_result"
    }
   ],
   "source": [
    "d['data']['personal_code']"
   ]
  },
  {
   "cell_type": "code",
   "execution_count": 8,
   "id": "a14bd4e9",
   "metadata": {},
   "outputs": [],
   "source": [
    "codes = d['data']['dataset_ids'][0]"
   ]
  },
  {
   "cell_type": "code",
   "execution_count": 9,
   "id": "b9add0b1",
   "metadata": {},
   "outputs": [
    {
     "data": {
      "text/plain": [
       "'f894683be9'"
      ]
     },
     "execution_count": 9,
     "metadata": {},
     "output_type": "execute_result"
    }
   ],
   "source": [
    "codes"
   ]
  },
  {
   "cell_type": "code",
   "execution_count": null,
   "id": "72aa026b",
   "metadata": {},
   "outputs": [],
   "source": [
    "collector = {}\n",
    "n_attempts = 10\n",
    "for data_id in codes:\n",
    "    r = requests.get(url=f'https://ies-midterm.soulution.rocks/data/{data_id}')\n",
    "    i = 0\n",
    "    while r.status_code !=200:  \n",
    "        r=requests.get(url=f'https://ies-midterm.soulution.rocks/data/{data_id}')\n",
    "        time.sleep(1)\n",
    "    d=r.json()['data']\n",
    "    \n",
    "    ticker = d['company']\n",
    "    data = pd.DataFrame(d['data']).set_index('Date')\n",
    "    data.index = pd.to_datetime(data.index)\n",
    "    \n",
    "    collector[ticker] = data\n",
    "df = pd.concat(collector)\n",
    "df.index.names = ['Ticker','Date']\n"
   ]
  },
  {
   "cell_type": "code",
   "execution_count": null,
   "id": "4612be51",
   "metadata": {},
   "outputs": [],
   "source": [
    "df"
   ]
  },
  {
   "cell_type": "markdown",
   "id": "6d153885",
   "metadata": {},
   "source": [
    "Unfortunately I still have a problem with data.\n",
    "\n"
   ]
  },
  {
   "cell_type": "markdown",
   "id": "b5947e61",
   "metadata": {},
   "source": [
    "Analysis of your dataset - find the following quantities per company: \n",
    "- the time series should be from 2019-01-02 to 2020-11-20. Is it the case in your sample? \n",
    "- what is the highest and lowest Adj Close price the company recorded? \n",
    "- what day was the highest number of shares traded \n",
    "- what is the total of shares traded \n",
    "- for the company with the highest volume of shares traded over the whole period, plot \n",
    "their share price over time \n",
    "- when did the company record the highest gain and highest loss for the day? (logarithmic \n",
    "loss) \n",
    "- plot the log returns for the company that has the largest difference between opening and \n",
    "closing price. What day and what company did it occur at? \n",
    "- find monthly returns. Which company has the highest recorded? \n",
    "- for stocks with full time series, calculate 10day volatility by calculating the standard \n",
    "deviation of the previous 10 days. (i.e. 10th day is the first observation and it includes \n",
    "given day)\n",
    "- create a single object with Adjusted Close prices, plot them together in one time series \n",
    "plot"
   ]
  },
  {
   "cell_type": "markdown",
   "id": "487fe28f",
   "metadata": {},
   "source": [
    "Creating my own dataset."
   ]
  },
  {
   "cell_type": "code",
   "execution_count": 50,
   "id": "a18a0e70",
   "metadata": {},
   "outputs": [],
   "source": [
    "df = pd.DataFrame({\"Time\": [\"2019-05-31\", \"2019-06-30\", \"2019-07-31\"], \"Adj Close\": [3, 2, 1], \"Shares traded\": [22000,30000,50000], \"Share price\": [2,4,6]})\n"
   ]
  },
  {
   "cell_type": "code",
   "execution_count": 51,
   "id": "26902ca7",
   "metadata": {},
   "outputs": [
    {
     "data": {
      "text/html": [
       "<div>\n",
       "<style scoped>\n",
       "    .dataframe tbody tr th:only-of-type {\n",
       "        vertical-align: middle;\n",
       "    }\n",
       "\n",
       "    .dataframe tbody tr th {\n",
       "        vertical-align: top;\n",
       "    }\n",
       "\n",
       "    .dataframe thead th {\n",
       "        text-align: right;\n",
       "    }\n",
       "</style>\n",
       "<table border=\"1\" class=\"dataframe\">\n",
       "  <thead>\n",
       "    <tr style=\"text-align: right;\">\n",
       "      <th></th>\n",
       "      <th>Time</th>\n",
       "      <th>Adj Close</th>\n",
       "      <th>Shares traded</th>\n",
       "      <th>Share price</th>\n",
       "    </tr>\n",
       "  </thead>\n",
       "  <tbody>\n",
       "    <tr>\n",
       "      <th>0</th>\n",
       "      <td>2019-05-31</td>\n",
       "      <td>3</td>\n",
       "      <td>22000</td>\n",
       "      <td>2</td>\n",
       "    </tr>\n",
       "    <tr>\n",
       "      <th>1</th>\n",
       "      <td>2019-06-30</td>\n",
       "      <td>2</td>\n",
       "      <td>30000</td>\n",
       "      <td>4</td>\n",
       "    </tr>\n",
       "    <tr>\n",
       "      <th>2</th>\n",
       "      <td>2019-07-31</td>\n",
       "      <td>1</td>\n",
       "      <td>50000</td>\n",
       "      <td>6</td>\n",
       "    </tr>\n",
       "  </tbody>\n",
       "</table>\n",
       "</div>"
      ],
      "text/plain": [
       "         Time  Adj Close  Shares traded  Share price\n",
       "0  2019-05-31          3          22000            2\n",
       "1  2019-06-30          2          30000            4\n",
       "2  2019-07-31          1          50000            6"
      ]
     },
     "execution_count": 51,
     "metadata": {},
     "output_type": "execute_result"
    }
   ],
   "source": [
    "df"
   ]
  },
  {
   "cell_type": "code",
   "execution_count": 52,
   "id": "fe254fc2",
   "metadata": {},
   "outputs": [
    {
     "data": {
      "text/plain": [
       "3"
      ]
     },
     "execution_count": 52,
     "metadata": {},
     "output_type": "execute_result"
    }
   ],
   "source": [
    "column = df[\"Adj Close\"]\n",
    "max_value = column.max()\n",
    "max_value"
   ]
  },
  {
   "cell_type": "code",
   "execution_count": 53,
   "id": "43255d1e",
   "metadata": {},
   "outputs": [
    {
     "data": {
      "text/plain": [
       "1"
      ]
     },
     "execution_count": 53,
     "metadata": {},
     "output_type": "execute_result"
    }
   ],
   "source": [
    "column = df[\"Adj Close\"]\n",
    "min_value = column.min()\n",
    "min_value"
   ]
  },
  {
   "cell_type": "code",
   "execution_count": 54,
   "id": "e0b94cb3",
   "metadata": {},
   "outputs": [
    {
     "data": {
      "text/plain": [
       "50000"
      ]
     },
     "execution_count": 54,
     "metadata": {},
     "output_type": "execute_result"
    }
   ],
   "source": [
    "column = df[\"Shares traded\"]\n",
    "max_value = column.max()\n",
    "max_value"
   ]
  },
  {
   "cell_type": "code",
   "execution_count": 55,
   "id": "6f584d93",
   "metadata": {},
   "outputs": [
    {
     "data": {
      "text/plain": [
       "102000"
      ]
     },
     "execution_count": 55,
     "metadata": {},
     "output_type": "execute_result"
    }
   ],
   "source": [
    "column = df[\"Shares traded\"]\n",
    "sum_value = column.sum()\n",
    "sum_value"
   ]
  },
  {
   "cell_type": "code",
   "execution_count": 56,
   "id": "6963cb77",
   "metadata": {},
   "outputs": [
    {
     "data": {
      "text/plain": [
       "<AxesSubplot:xlabel='Time'>"
      ]
     },
     "execution_count": 56,
     "metadata": {},
     "output_type": "execute_result"
    },
    {
     "data": {
      "image/png": "[encoded data removed]",
      "text/plain": [
       "<Figure size 432x288 with 1 Axes>"
      ]
     },
     "metadata": {
      "needs_background": "light"
     },
     "output_type": "display_data"
    }
   ],
   "source": [
    "df.plot(x='Time', y='Share price')"
   ]
  },
  {
   "cell_type": "code",
   "execution_count": 61,
   "id": "8379286f",
   "metadata": {},
   "outputs": [
    {
     "ename": "SyntaxError",
     "evalue": "invalid syntax (Temp/ipykernel_26056/1217131122.py, line 1)",
     "output_type": "error",
     "traceback": [
      "\u001b[1;36m  File \u001b[1;32m\"C:\\Users\\Veronika\\AppData\\Local\\Temp/ipykernel_26056/1217131122.py\"\u001b[1;36m, line \u001b[1;32m1\u001b[0m\n\u001b[1;33m    df.loc[df.['Share price'].idxmin(), df['Date']]\u001b[0m\n\u001b[1;37m              ^\u001b[0m\n\u001b[1;31mSyntaxError\u001b[0m\u001b[1;31m:\u001b[0m invalid syntax\n"
     ]
    }
   ],
   "source": [
    "df.loc[df.['Share price'].idxmin(), df['Date']]"
   ]
  },
  {
   "cell_type": "code",
   "execution_count": 64,
   "id": "d3b0e0ab",
   "metadata": {},
   "outputs": [
    {
     "ename": "SyntaxError",
     "evalue": "invalid syntax (Temp/ipykernel_26056/1949270067.py, line 1)",
     "output_type": "error",
     "traceback": [
      "\u001b[1;36m  File \u001b[1;32m\"C:\\Users\\Veronika\\AppData\\Local\\Temp/ipykernel_26056/1949270067.py\"\u001b[1;36m, line \u001b[1;32m1\u001b[0m\n\u001b[1;33m    df.loc[df.['Share price'].idxmax(), df['Date']]\u001b[0m\n\u001b[1;37m              ^\u001b[0m\n\u001b[1;31mSyntaxError\u001b[0m\u001b[1;31m:\u001b[0m invalid syntax\n"
     ]
    }
   ],
   "source": [
    "df.loc[df.['Share price'].idxmax(), df['Date']]"
   ]
  },
  {
   "cell_type": "code",
   "execution_count": null,
   "id": "83ce08a9",
   "metadata": {},
   "outputs": [],
   "source": []
  }
 ],
 "metadata": {
  "kernelspec": {
   "display_name": "Python 3 (ipykernel)",
   "language": "python",
   "name": "python3"
  },
  "language_info": {
   "codemirror_mode": {
    "name": "ipython",
    "version": 3
   },
   "file_extension": ".py",
   "mimetype": "text/x-python",
   "name": "python",
   "nbconvert_exporter": "python",
   "pygments_lexer": "ipython3",
   "version": "3.8.12"
  }
 },
 "nbformat": 4,
 "nbformat_minor": 5
}
